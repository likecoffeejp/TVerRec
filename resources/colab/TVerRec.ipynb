{
  "cells": [
    {
      "cell_type": "code",
      "execution_count": null,
      "metadata": {
        "id": "zD46E6i831V3"
      },
      "outputs": [],
      "source": [
        "# Update the list of packages\n",
        "!sudo apt-get update\n",
        "# Install pre-requisite packages.\n",
        "!sudo apt-get install -y wget apt-transport-https software-properties-common git\n",
        "\n",
        "# Download the Microsoft repository GPG keys\n",
        "!wget -q \"https://packages.microsoft.com/config/ubuntu/$(lsb_release -rs)/packages-microsoft-prod.deb\"\n",
        "# Register the Microsoft repository GPG keys\n",
        "!sudo dpkg -i packages-microsoft-prod.deb\n",
        "!rm -rf packages-microsoft-prod.deb*\n",
        "# Update the list of packages after we added packages.microsoft.com\n",
        "!sudo apt-get update\n",
        "# Install PowerShell\n",
        "!sudo apt-get install -y powershell\n",
        "# Confirm PowerShell\n",
        "!which pwsh\n",
        "\n",
        "# Version up if available\n",
        "!sudo apt-get upgrade"
      ]
    },
    {
      "cell_type": "code",
      "execution_count": null,
      "metadata": {
        "id": "Y_i8-YFTTt_H"
      },
      "outputs": [],
      "source": [
        "# git clone\n",
        "!ls -la /content\n",
        "!pwd\n",
        "!if [ ! -d /content/TVerRec ]; then git clone https://github.com/dongaba/TVerRec ; else cd /content/TVerRec && git pull && cd - ; fi\n",
        "!chmod a+x /content/TVerRec/unix/*.sh\n",
        "\n",
        "# setting for Colab\n",
        "!sed -i -e \"s|\\.\\./src|/content/TVerRec/src|g\" /content/TVerRec/unix/*.sh\n",
        "!echo '$script:downloadBaseDir = \"/content/drive/MyDrive/Work\"' >> /content/TVerRec/conf/user_setting.ps1\n",
        "!echo '$script:downloadWorkDir = \"/tmp\"' >> /content/TVerRec/conf/user_setting.ps1\n",
        "!echo '$script:saveBaseDir = \"/content/drive/MyDrive/Save\"' >> /content/TVerRec/conf/user_setting.ps1\n"
      ]
    },
    {
      "cell_type": "code",
      "execution_count": null,
      "metadata": {
        "id": "krvlPAIjUmKO"
      },
      "outputs": [],
      "source": [
        "from google.colab import drive\n",
        "drive.mount('/content/drive')"
      ]
    },
    {
      "cell_type": "code",
      "execution_count": null,
      "metadata": {
        "id": "Ntt6saViTwH1"
      },
      "outputs": [],
      "source": [
        "!/content/TVerRec/unix/start_tverrec.sh"
      ]
    }
  ],
  "metadata": {
    "colab": {
      "provenance": []
    },
    "kernelspec": {
      "display_name": "Python 3",
      "name": "python3"
    },
    "language_info": {
      "name": "python"
    }
  },
  "nbformat": 4,
  "nbformat_minor": 0
}
